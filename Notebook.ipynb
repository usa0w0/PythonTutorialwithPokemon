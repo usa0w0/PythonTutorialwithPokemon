{
 "cells": [
  {
   "cell_type": "markdown",
   "metadata": {},
   "source": [
    "#### 2023.5.10 輪講資料\n",
    "# ポケモンから学ぶ**関数**と**オブジェクト指向**\n",
    "> 参考：\n",
    "> [[Python]ポケモンで学ぶオブジェクト指向プログラミング](https://qiita.com/VDiUZnM1hUIzKvb/items/48274b3952387337569f), \n",
    "> 初めてのPython 第3版（オライリージャパン）"
   ]
  },
  {
   "cell_type": "markdown",
   "metadata": {},
   "source": [
    "## 1. 関数\n",
    "プログラム開発において, **コードの再利用**や**プログラムの分割**を目的として, 一連の作業をまとめたものを**関数**と呼びます. （言語によって, **サブルーチン**などと呼ばれる場合もありますが, 同じ概念を指します. ）"
   ]
  },
  {
   "cell_type": "markdown",
   "metadata": {},
   "source": [
    "標準入力を受け取る`input`関数やリストの長さ（要素数）を確認する`len`関数などは, **ビルトイン関数**と呼ばれ, pythonにはじめから用意されている関数です。"
   ]
  },
  {
   "cell_type": "markdown",
   "metadata": {},
   "source": [
    "関数を自作する場合には, 以下のように記述し, 定義する必要があります. \n",
    "```\n",
    "def 関数名(引数1, 引数2, ...):\n",
    "    \n",
    "    <作業内容>\n",
    "\n",
    "```\n",
    "また, 関数内の作業から得られた結果は, `return`によって、呼び出し側に戻すこともできます. \n",
    "```\n",
    "def 関数名(引数1, 引数2, ...):\n",
    "    \n",
    "    <作業内容>\n",
    "\n",
    "    return 戻り値\n",
    "```\n",
    "呼び出す際には, 必要な引数変数を渡して関数を呼び出します. \n",
    "```\n",
    "関数名(引数変数1, 引数変数2, ...)\n",
    "```\n",
    "また, 戻り値を変数に受け取ることもできます. \n",
    "```\n",
    "変数名 = 関数名(引数変数)\n",
    "```"
   ]
  },
  {
   "cell_type": "markdown",
   "metadata": {},
   "source": [
    "### 関数の実例1：掛け算する関数"
   ]
  },
  {
   "cell_type": "code",
   "execution_count": 1,
   "metadata": {},
   "outputs": [],
   "source": [
    "# 定義\n",
    "def times(x, y):\n",
    "    return x * y"
   ]
  },
  {
   "cell_type": "code",
   "execution_count": 2,
   "metadata": {},
   "outputs": [
    {
     "data": {
      "text/plain": [
       "8"
      ]
     },
     "execution_count": 2,
     "metadata": {},
     "output_type": "execute_result"
    }
   ],
   "source": [
    "# 呼び出し1\n",
    "times(2, 4)"
   ]
  },
  {
   "cell_type": "code",
   "execution_count": 3,
   "metadata": {},
   "outputs": [
    {
     "name": "stdout",
     "output_type": "stream",
     "text": [
      "12.56\n"
     ]
    }
   ],
   "source": [
    "# 呼び出し2\n",
    "a = times(3.14, 4)\n",
    "print(a)"
   ]
  },
  {
   "cell_type": "code",
   "execution_count": 4,
   "metadata": {},
   "outputs": [
    {
     "data": {
      "text/plain": [
       "63"
      ]
     },
     "execution_count": 4,
     "metadata": {},
     "output_type": "execute_result"
    }
   ],
   "source": [
    "# 呼び出し3\n",
    "s = 7\n",
    "t = 9\n",
    "times(s, t)"
   ]
  },
  {
   "cell_type": "markdown",
   "metadata": {},
   "source": [
    "### 関数の実例2：割り算をする関数"
   ]
  },
  {
   "cell_type": "code",
   "execution_count": 5,
   "metadata": {},
   "outputs": [],
   "source": [
    "# 定義\n",
    "def divided(x, y):\n",
    "    return x / y"
   ]
  },
  {
   "cell_type": "code",
   "execution_count": 6,
   "metadata": {},
   "outputs": [
    {
     "data": {
      "text/plain": [
       "2.0"
      ]
     },
     "execution_count": 6,
     "metadata": {},
     "output_type": "execute_result"
    }
   ],
   "source": [
    "# 呼び出し1\n",
    "s = 8\n",
    "t = 4\n",
    "divided(x=s, y=t)"
   ]
  },
  {
   "cell_type": "code",
   "execution_count": 7,
   "metadata": {},
   "outputs": [
    {
     "data": {
      "text/plain": [
       "4.5"
      ]
     },
     "execution_count": 7,
     "metadata": {},
     "output_type": "execute_result"
    }
   ],
   "source": [
    "# 呼び出し2\n",
    "divided(y=2, x=9)"
   ]
  },
  {
   "cell_type": "markdown",
   "metadata": {},
   "source": [
    "### 関数の実例3：2つの文字列から共通する文字を抽出する"
   ]
  },
  {
   "cell_type": "code",
   "execution_count": 8,
   "metadata": {},
   "outputs": [],
   "source": [
    "# 定義\n",
    "def intersect(seq1, seq2):\n",
    "    result = []\n",
    "    for s in seq1:\n",
    "        if s in seq2:\n",
    "            result.append(s)\n",
    "    return result"
   ]
  },
  {
   "cell_type": "code",
   "execution_count": 9,
   "metadata": {},
   "outputs": [
    {
     "data": {
      "text/plain": [
       "['チ', 'ュ', 'ウ']"
      ]
     },
     "execution_count": 9,
     "metadata": {},
     "output_type": "execute_result"
    }
   ],
   "source": [
    "# 呼び出し\n",
    "s1 = 'ピカチュウ'\n",
    "s2 = 'ライチュウ'\n",
    "intersect(s1, s2)"
   ]
  },
  {
   "cell_type": "markdown",
   "metadata": {},
   "source": [
    "## 2. オブジェクト\n",
    "プログラムにおけるデータ構造であり, 値としての **データ（属性）** と処理を楽にする **機能（手続き）** をひとかたまりにしたもの.（概念的で複雑なので, 詳しいことは聞かないで...）"
   ]
  },
  {
   "cell_type": "markdown",
   "metadata": {},
   "source": [
    "関数同様にビルトインオブジェクトも存在し, 数値はもちろんリストや文字列もビルトインオブジェクトの一つです. 以下に, それぞれの属性と機能の例を紹介します. "
   ]
  },
  {
   "cell_type": "markdown",
   "metadata": {},
   "source": [
    "### 文字列"
   ]
  },
  {
   "cell_type": "code",
   "execution_count": 10,
   "metadata": {},
   "outputs": [
    {
     "name": "stdout",
     "output_type": "stream",
     "text": [
      "スライス： Iron\n",
      "カンマ区切り： ['Iron', 'Head']\n",
      "大文字化： IRON HEAD\n"
     ]
    }
   ],
   "source": [
    "s = 'Iron Head'\n",
    "\n",
    "## スライス\n",
    "print('スライス：', s[0:4])\n",
    "\n",
    "## 機能例\n",
    "### 区切り\n",
    "print('カンマ区切り：', s.split(' '))\n",
    "\n",
    "### 大文字小文字変換\n",
    "print('大文字化：', s.upper())"
   ]
  },
  {
   "cell_type": "markdown",
   "metadata": {},
   "source": [
    "### リスト"
   ]
  },
  {
   "cell_type": "code",
   "execution_count": 11,
   "metadata": {},
   "outputs": [
    {
     "name": "stdout",
     "output_type": "stream",
     "text": [
      "スライス： エンペルト\n",
      "ヒコザル追加： ['ポッチャマ', 'ポッタイシ', 'エンペルト', 'ヒコザル']\n",
      "取り出した要素： ポッタイシ\n",
      "pop後のリスト： ['ポッチャマ', 'エンペルト', 'ヒコザル']\n",
      "エンペルト抜き： ['ポッチャマ', 'ヒコザル']\n"
     ]
    }
   ],
   "source": [
    "p = ['ポッチャマ', 'ポッタイシ', 'エンペルト']\n",
    "\n",
    "## スライス\n",
    "print('スライス：', p[2])\n",
    "\n",
    "## 機能\n",
    "### 要素の追加\n",
    "p.append('ヒコザル')\n",
    "print('ヒコザル追加：', p)\n",
    "\n",
    "### 指定した位置の要素を取り出す\n",
    "q = p.pop(1)\n",
    "print('取り出した要素：', q)\n",
    "print('pop後のリスト：', p)\n",
    "\n",
    "### 指定した値の要素を削除\n",
    "p.remove('エンペルト')\n",
    "print('エンペルト抜き：', p)\n"
   ]
  },
  {
   "cell_type": "markdown",
   "metadata": {},
   "source": [
    "### 辞書\n",
    "**キー**が**値**と対応しており, キーを使うことで値が取り出せるデータ構造."
   ]
  },
  {
   "cell_type": "code",
   "execution_count": 12,
   "metadata": {},
   "outputs": [
    {
     "name": "stdout",
     "output_type": "stream",
     "text": [
      "nameを取り出す： ガブリアス\n",
      "レベルを1増やすと： {'name': 'ガブリアス', 'No': 445, 'type': ['ドラゴン', 'じめん'], 'level': 100}\n",
      "特性を追加すると： {'name': 'ガブリアス', 'No': 445, 'type': ['ドラゴン', 'じめん'], 'level': 100, '特性': 'すながくれ'}\n",
      "特性を変えると： {'name': 'ガブリアス', 'No': 445, 'type': ['ドラゴン', 'じめん'], 'level': 100, '特性': 'さめはだ'}\n",
      "タイプ1 ドラゴン\n",
      "タイプ2 じめん\n",
      "キーリスト： dict_keys(['name', 'No', 'type', 'level', '特性'])\n",
      "値のリスト： dict_values(['ガブリアス', 445, ['ドラゴン', 'じめん'], 100, 'さめはだ'])\n"
     ]
    }
   ],
   "source": [
    "Garchomp = {'name': 'ガブリアス', 'No': 445, 'type': ['ドラゴン', 'じめん'], 'level': 99}\n",
    "\n",
    "## 取り扱い\n",
    "print('nameを取り出す：', Garchomp['name'])\n",
    "\n",
    "Garchomp['level'] += 1\n",
    "print('レベルを1増やすと：', Garchomp)\n",
    "\n",
    "Garchomp['特性'] = 'すながくれ'\n",
    "print('特性を追加すると：', Garchomp)\n",
    "\n",
    "Garchomp['特性'] = 'さめはだ'\n",
    "print('特性を変えると：', Garchomp)\n",
    "\n",
    "for i in range(2):\n",
    "    print('タイプ' + str(i+1), Garchomp['type'][i])\n",
    "\n",
    "## 機能\n",
    "### キーのリストを取り出す\n",
    "print('キーリスト：', Garchomp.keys())\n",
    "\n",
    "### 値だけのリストを取り出す\n",
    "print('値のリスト：', Garchomp.values())"
   ]
  },
  {
   "cell_type": "markdown",
   "metadata": {},
   "source": [
    "### タプル\n",
    "リストのように扱えるが, 一度生成すると値の変更はできません."
   ]
  },
  {
   "cell_type": "code",
   "execution_count": 13,
   "metadata": {},
   "outputs": [
    {
     "name": "stdout",
     "output_type": "stream",
     "text": [
      "みず\n",
      "はがね\n",
      "タプルの長さ： 2\n"
     ]
    }
   ],
   "source": [
    "t = ('みず', 'はがね')\n",
    "\n",
    "## 取り扱い\n",
    "print(t[0])\n",
    "print(t[1])\n",
    "\n",
    "print('タプルの長さ：', len(t))"
   ]
  },
  {
   "cell_type": "code",
   "execution_count": 14,
   "metadata": {},
   "outputs": [
    {
     "ename": "TypeError",
     "evalue": "'tuple' object does not support item assignment",
     "output_type": "error",
     "traceback": [
      "\u001b[0;31m---------------------------------------------------------------------------\u001b[0m",
      "\u001b[0;31mTypeError\u001b[0m                                 Traceback (most recent call last)",
      "Cell \u001b[0;32mIn [14], line 2\u001b[0m\n\u001b[1;32m      1\u001b[0m \u001b[38;5;66;03m# タプルは不変\u001b[39;00m\n\u001b[0;32m----> 2\u001b[0m t[\u001b[38;5;241m1\u001b[39m] \u001b[38;5;241m=\u001b[39m \u001b[38;5;124m'\u001b[39m\u001b[38;5;124mあく\u001b[39m\u001b[38;5;124m'\u001b[39m\n",
      "\u001b[0;31mTypeError\u001b[0m: 'tuple' object does not support item assignment"
     ]
    }
   ],
   "source": [
    "# タプルは不変\n",
    "t[1] = 'あく'"
   ]
  },
  {
   "cell_type": "markdown",
   "metadata": {},
   "source": [
    "# 3. クラス\n",
    "クラスとは, 自作オブジェクトのデータ構造を定義する「ひな型」です. 実際に使用するときには, **インスタンス**という形で呼び出します. "
   ]
  },
  {
   "cell_type": "markdown",
   "metadata": {},
   "source": [
    "イメージとしては, \n",
    "- ポケモンの種族値であったり, タイプ, 将来的に覚える技のリストなどを定義したものが**クラス**\n",
    "- 捕まえて, 個体値がランダムに振られ, レベルを上げたり, 努力値を振ったものが**インスタンス**"
   ]
  },
  {
   "cell_type": "markdown",
   "metadata": {},
   "source": [
    "クラスを定義するには, 以下のように記述します. \n",
    "`__init__`はコンストラクタと呼ばれ, インスタンスを生成した時点で実行されます. \n",
    "```\n",
    "class クラス名():\n",
    "    def __init__(self, 引数, ...):\n",
    "        <初期化処理>\n",
    "\n",
    "    def 機能名(self, 引数, ...):\n",
    "        <作業内容>\n",
    "```\n",
    "\n",
    "定義したクラスは, 以下のようにしてインスタンス化できます.\n",
    "```\n",
    "インスタンス名 = クラス名(引数, ...)\n",
    "```"
   ]
  },
  {
   "cell_type": "markdown",
   "metadata": {},
   "source": [
    "### クラスの実例\n",
    "リザードンclassを定義してみましょう. \n",
    "コンストラクタには, ニックネームとレベルを渡し, インスタンスの属性にします.  \n",
    "\n",
    "![リザードンのイラスト](https://zukan.pokemon.co.jp/zukan-api/up/images/index/42062cbeca16839af3efe8a7d61ceb27a30f758b.png)\n",
    "> [リザードン｜ポケモンずかん](https://zukan.pokemon.co.jp/detail/0006)より"
   ]
  },
  {
   "cell_type": "code",
   "execution_count": 15,
   "metadata": {},
   "outputs": [],
   "source": [
    "class Charizard():\n",
    "    def __init__(self, name, level):\n",
    "\n",
    "        # インスタンス変数\n",
    "        self.name = name\n",
    "        self.level = level\n",
    "        \n",
    "        print('「いけ！' + self.name + '！」')"
   ]
  },
  {
   "cell_type": "markdown",
   "metadata": {},
   "source": [
    "定義したクラスを元にインスタンスを生成すると, コンストラクタが実行されます. \n",
    "今回は, コンストラクタに`print`文を入れているので, 登場ボイスが出力されます."
   ]
  },
  {
   "cell_type": "code",
   "execution_count": 16,
   "metadata": {},
   "outputs": [
    {
     "name": "stdout",
     "output_type": "stream",
     "text": [
      "「いけ！りざすけ！」\n"
     ]
    }
   ],
   "source": [
    "rizasuke = Charizard('りざすけ', 50)"
   ]
  },
  {
   "cell_type": "markdown",
   "metadata": {},
   "source": [
    "また, インスタンスの持つ属性（インスタンス変数）を取り出すこともできます. "
   ]
  },
  {
   "cell_type": "code",
   "execution_count": 17,
   "metadata": {},
   "outputs": [
    {
     "name": "stdout",
     "output_type": "stream",
     "text": [
      "りざすけのレベル： 50\n"
     ]
    }
   ],
   "source": [
    "print('りざすけのレベル：', rizasuke.level) # rizasukeがselfとなる"
   ]
  },
  {
   "cell_type": "markdown",
   "metadata": {},
   "source": [
    "リザードンに種族値を振ってみましょう. ついでにステータスを表示するする機能も実装します. \n",
    "\n",
    "※1 種族値・個体値・努力値の3値は, ゲーム内の隠しパラメータ（詳しくは, [個体値・種族値・努力値とは？](https://yakkun.com/dp/system.htm)）\n",
    "\n",
    "ステータス計算式は, 以下に従います.\n",
    "- HP = (種族値×2 + 個体値 + 努力値÷4) × レベル ÷ 100 + 10 + レベル\n",
    "- その他 ＝ {(種族値×2 + 個体値 + 努力値÷4) × レベル ÷ 100 + 5} × 性格補正\n",
    "\n",
    "※2 とりあえず, 個体値・努力値オール0, 性格補正なしとする\n",
    "\n",
    "個体値は, HP：78, こうげき：84, ぼうぎょ：78, とくこう：109, とくぼう：85, すばやさ：100"
   ]
  },
  {
   "cell_type": "markdown",
   "metadata": {},
   "source": [
    "クラス内には, 1.で扱ったような関数を定義することができます. \n",
    "オブジェクトの機能として実装された関数は, **メソッド**と呼ばれます. "
   ]
  },
  {
   "cell_type": "code",
   "execution_count": 18,
   "metadata": {},
   "outputs": [
    {
     "name": "stdout",
     "output_type": "stream",
     "text": [
      "「いけ！りざまる！」\n"
     ]
    }
   ],
   "source": [
    "class Charizard():\n",
    "    def __init__(self, name, level):\n",
    "        self.name = name\n",
    "        self.level = level\n",
    "\n",
    "        BaseHP = 78\n",
    "        BaseAtk = 84\n",
    "        BaseDef = 78\n",
    "        BaseSpAtk = 109\n",
    "        BaseSpDef = 85\n",
    "        BaseSpeed = 100\n",
    "\n",
    "        self.max_HP = (BaseHP * 2) * level // 100 + 10 + level      \n",
    "        self.HP = self.max_HP       \n",
    "        self.Attack = (BaseAtk * 2) * level // 100 + 5\n",
    "        self.Defense = (BaseDef * 2) * level // 100 + 5\n",
    "        self.SpAtk = (BaseSpAtk * 2) * level // 100 + 5\n",
    "        self.SpDef = (BaseSpDef * 2) * level // 100 + 5\n",
    "        self.Speed = (BaseSpeed * 2) * level // 100 + 5\n",
    "        \n",
    "        print('「いけ！' + self.name + '！」')\n",
    "\n",
    "    # ステータス表示関数\n",
    "    def showStatus(self):\n",
    "        print('HP：', self.HP, '/', self.max_HP)\n",
    "        print('こうげき：', self.Attack)\n",
    "        print('ぼうぎょ：', self.Defense)\n",
    "        print('とくこう：', self.SpAtk)\n",
    "        print('とくぼう：', self.SpDef)\n",
    "        print('すばやさ：', self.Speed)\n",
    "\n",
    "rizamaru = Charizard('りざまる', 100)"
   ]
  },
  {
   "cell_type": "markdown",
   "metadata": {},
   "source": [
    "メソッドは, `インスタンス名.メソッド名()`で呼び出せます."
   ]
  },
  {
   "cell_type": "code",
   "execution_count": 19,
   "metadata": {},
   "outputs": [
    {
     "name": "stdout",
     "output_type": "stream",
     "text": [
      "HP： 266 / 266\n",
      "こうげき： 173\n",
      "ぼうぎょ： 161\n",
      "とくこう： 223\n",
      "とくぼう： 175\n",
      "すばやさ： 205\n"
     ]
    }
   ],
   "source": [
    "rizamaru.showStatus()   # メソッドの呼び出し"
   ]
  },
  {
   "cell_type": "markdown",
   "metadata": {},
   "source": [
    "種族値は, インスタンス変数ではない（ローカル変数）ため, 外部からの閲覧はできません. "
   ]
  },
  {
   "cell_type": "code",
   "execution_count": 20,
   "metadata": {},
   "outputs": [
    {
     "ename": "AttributeError",
     "evalue": "'Charizard' object has no attribute 'BaseHP'",
     "output_type": "error",
     "traceback": [
      "\u001b[0;31m---------------------------------------------------------------------------\u001b[0m",
      "\u001b[0;31mAttributeError\u001b[0m                            Traceback (most recent call last)",
      "Cell \u001b[0;32mIn [20], line 1\u001b[0m\n\u001b[0;32m----> 1\u001b[0m rizamaru\u001b[38;5;241m.\u001b[39mBaseHP\n",
      "\u001b[0;31mAttributeError\u001b[0m: 'Charizard' object has no attribute 'BaseHP'"
     ]
    }
   ],
   "source": [
    "rizamaru.BaseHP"
   ]
  },
  {
   "cell_type": "markdown",
   "metadata": {},
   "source": [
    "クラスには, インスタンス変数以外に, クラス変数というものが定義できます. これは, 全インスタンスが共通で持つ属性の定義に使えます. "
   ]
  },
  {
   "cell_type": "code",
   "execution_count": 21,
   "metadata": {},
   "outputs": [
    {
     "name": "stdout",
     "output_type": "stream",
     "text": [
      "「いけ！りざ太郎！」\n",
      "\n",
      "リザードンのタイプ： ('ほのお', 'ひこう')\n",
      "\n",
      "インスタンス変数に存在せず, クラス変数にある場合には, 自動的にクラス変数から参照されます.\n",
      " ('ほのお', 'ひこう')\n"
     ]
    }
   ],
   "source": [
    "class Charizard():\n",
    "\n",
    "    # クラス変数\n",
    "    Type = ('ほのお', 'ひこう')\n",
    "\n",
    "    def __init__(self, name, level):\n",
    "        self.name = name\n",
    "        self.level = level\n",
    "        print('「いけ！' + self.name + '！」')\n",
    "\n",
    "rizataro = Charizard('りざ太郎', 100)\n",
    "\n",
    "print('\\nリザードンのタイプ：', Charizard.Type)\n",
    "\n",
    "print('\\nインスタンス変数に存在せず, クラス変数にある場合には, 自動的にクラス変数から参照されます.\\n', rizataro.Type)"
   ]
  },
  {
   "cell_type": "markdown",
   "metadata": {},
   "source": [
    "いよいよ, リザードンに技を覚えさせましょう. \n",
    "今回は, 「かえんほうしゃ」を実装します. \n",
    "\n",
    "> わざ：かえんほうしゃ\n",
    "> - タイプ：ほのお\n",
    "> - 分類：とくしゅ\n",
    "> - 威力：90\n",
    "> - 命中率：100\n",
    "> - こうかばつぐん：くさ, こおり, むし, はがね\n",
    "> - こうかいまひとつ：ほのお, みず, いわ, ドラゴン\n",
    "\n",
    "基本ダメージ計算式は, 以下に従います. \n",
    "- ぶつり技：威力 ×（自分のレベル×2÷5+2）× 自分のこうげき ÷ 相手のぼうぎょ ÷ 50 × 乱数\n",
    "- とくしゅ技：威力 ×（自分のレベル×2÷5+2）× 自分のとくこう ÷ 相手のとくぼう ÷ 50 × 乱数\n",
    "\n",
    "※1 乱数は, 217/255 ~ 255/255（0.85, 0.86, …… ,0.99, 1.00）\n",
    "\n",
    "※2 基本ダメージの上限は997です.\n",
    "\n",
    "※3 基本ダメージ計算後, 定数項として+2されます\n",
    "\n",
    "ポケモンのわざにはタイプがあり, 相手ポケモン（`enemy`）のタイプに応じて, こうかばつぐん・いまひとつがあります. \n",
    "こうかばつぐんな場合にはダメージが2倍になり, こうかいまひとつな場合には1/2になります. \n",
    "\n",
    "また, 自分のタイプとわざのタイプが一致する場合には, ダメージが1.5倍になります.\n",
    "\n",
    "最後に, わざは確率で急所に当たる場合があり, ダメージが1.5倍になります."
   ]
  },
  {
   "cell_type": "markdown",
   "metadata": {},
   "source": [
    "ついでなので, 今後のために被ダメージメソッド`hit`も実装します. \n",
    "ダメージ値を引数に受け取り, ダメージ処理をします. \n",
    "HPが0になったならば, ひんし（`Fainting`）になります."
   ]
  },
  {
   "cell_type": "code",
   "execution_count": 22,
   "metadata": {},
   "outputs": [
    {
     "name": "stdout",
     "output_type": "stream",
     "text": [
      "「いけ！りざ次郎！」\n"
     ]
    }
   ],
   "source": [
    "from random import randint\n",
    "\n",
    "class Charizard():\n",
    "    Type = ('ほのお', 'ひこう')\n",
    "\n",
    "    def __init__(self, name, level):\n",
    "        self.name = name\n",
    "        self.level = level\n",
    "        self.Fainting = False\n",
    "\n",
    "        BaseHP = 78\n",
    "        BaseAtk = 84\n",
    "        BaseDef = 78\n",
    "        BaseSpAtk = 109\n",
    "        BaseSpDef = 85\n",
    "        BaseSpeed = 100\n",
    "\n",
    "        self.max_HP = (BaseHP * 2) * level // 100 + 10 + level      \n",
    "        self.HP = self.max_HP       \n",
    "        self.Attack = (BaseAtk * 2) * level // 100 + 5\n",
    "        self.Defense = (BaseDef * 2) * level // 100 + 5\n",
    "        self.SpAtk = (BaseSpAtk * 2) * level // 100 + 5\n",
    "        self.SpDef = (BaseSpDef * 2) * level // 100 + 5\n",
    "        self.Speed = (BaseSpeed * 2) * level // 100 + 5\n",
    "        \n",
    "        print('「いけ！' + self.name + '！」')\n",
    "\n",
    "    # かえんほうしゃ\n",
    "    def Flamethrower(self, enemy):\n",
    "        print(self.name + 'のかえんほうしゃ！')\n",
    "        MoveType = 'ほのお'\n",
    "        Species = 'とくしゅ'\n",
    "        Power = 90\n",
    "        Accuracy = 100\n",
    "\n",
    "        # 1 ~ 100の乱数を生成し, 命中率に応じて外れる.\n",
    "        if not randint(1, 100) <= Accuracy:\n",
    "            print('こうげきははずれた')\n",
    "            return\n",
    "        \n",
    "        # ダメージ計算式\n",
    "        if Species == 'ぶつり':\n",
    "            damage = int(int(Power * (int(self.level * 2 / 5) + 2) * self.Attack / enemy.Defence) / 50) + 2\n",
    "        elif Species == 'とくしゅ':\n",
    "            damage = int(int(Power * (int(self.level * 2 / 5 + 2)) * self.SpAtk / enemy.SpDef) / 50) + 2\n",
    "        \n",
    "        # 乱数付与\n",
    "        damage = damage * randint(217, 255) // 255\n",
    "\n",
    "        # ダメージ上限計算・定数項\n",
    "        damage = min(damage, 997) + 2\n",
    "\n",
    "        # 相性補正\n",
    "        effective = 0\n",
    "        for Type in enemy.Type:\n",
    "            if Type in ['くさ', 'こおり', 'むし', 'はがね']:\n",
    "                effective += 1\n",
    "            elif Type in ['ほのお', 'みず', 'いわ', 'ドラゴン']:\n",
    "                effective -= 1\n",
    "        damage *= 2**effective\n",
    "\n",
    "        # タイプ一致\n",
    "        if MoveType in Charizard.Type:\n",
    "            damage *= 1.5\n",
    "\n",
    "        # 急所判定\n",
    "        if randint(1, 24) == 1:\n",
    "            critical = True\n",
    "            damage *= 1.5\n",
    "        else:\n",
    "            critical = False\n",
    "\n",
    "        # ダメージ処理\n",
    "        print(self.name + 'は' + enemy.name + 'に' + str(round(damage)) + 'のダメージを与えた！')\n",
    "\n",
    "        if critical:\n",
    "            print('きゅうしょにあたった！')\n",
    "\n",
    "        if effective > 0:\n",
    "            print('こうかはばつぐんだ！')\n",
    "        elif effective < 0:\n",
    "            print('こうかはいまひとつのようだ！')\n",
    "\n",
    "        enemy.hit(round(damage))\n",
    "\n",
    "    def hit(self, damage):\n",
    "        self.HP = max(self.HP - damage, 0)\n",
    "        if self.HP == 0:\n",
    "            self.Fainting = True\n",
    "            print(self.name + 'はたおれた！')\n",
    "        \n",
    "rizajiro = Charizard('りざ次郎', 100)"
   ]
  },
  {
   "cell_type": "markdown",
   "metadata": {},
   "source": [
    "わざが実装できたので, 相手ポケモンを簡易で作り, わざを当ててみましょう.\n",
    "サンプルとして, くさタイプのフシギバナを作成します.   \n",
    "\n",
    "![フシギバナのイラスト](https://zukan.pokemon.co.jp/zukan-api/up/images/index/ebccfe6f2ccfe2e851fd29739bf6220c.png)\n",
    "> [フシギバナ｜ポケモンずかん](https://zukan.pokemon.co.jp/detail/0003)より"
   ]
  },
  {
   "cell_type": "code",
   "execution_count": 23,
   "metadata": {},
   "outputs": [
    {
     "name": "stdout",
     "output_type": "stream",
     "text": [
      "「いけ！ふっしー！」\n"
     ]
    }
   ],
   "source": [
    "class Venusaur():\n",
    "    Type = ('くさ', 'どく')\n",
    "\n",
    "    def __init__(self, name, level):\n",
    "        self.name = name\n",
    "        self.level = level\n",
    "        self.Fainting = False\n",
    "\n",
    "        BaseHP = 80\n",
    "        BaseSpDef = 100\n",
    "\n",
    "        self.max_HP = (BaseHP * 2) * level // 100 + 10 + level      \n",
    "        self.HP = self.max_HP\n",
    "        self.SpDef = (BaseSpDef * 2) * level // 100 + 5\n",
    "        \n",
    "        print('「いけ！' + self.name + '！」')\n",
    "    \n",
    "    def showStatus(self):\n",
    "        print('HP：', self.HP, '/', self.max_HP)\n",
    "\n",
    "        if self.Fainting:\n",
    "            print('ひんし')\n",
    "\n",
    "    def hit(self, damage):\n",
    "        self.HP = max(self.HP - damage, 0)\n",
    "        if self.HP == 0:\n",
    "            self.Fainting = True\n",
    "            print(self.name + 'はたおれた！')\n",
    "\n",
    "fussi = Venusaur('ふっしー', 100)"
   ]
  },
  {
   "cell_type": "markdown",
   "metadata": {},
   "source": [
    "フシギバナに, 「かえんほうしゃ」を打ってみましょう."
   ]
  },
  {
   "cell_type": "code",
   "execution_count": 24,
   "metadata": {},
   "outputs": [
    {
     "name": "stdout",
     "output_type": "stream",
     "text": [
      "りざ次郎のかえんほうしゃ！\n",
      "りざ次郎はふっしーに255のダメージを与えた！\n",
      "こうかはばつぐんだ！\n"
     ]
    }
   ],
   "source": [
    "rizajiro.Flamethrower(fussi)"
   ]
  },
  {
   "cell_type": "markdown",
   "metadata": {},
   "source": [
    "フシギバナの体力を確認すると..."
   ]
  },
  {
   "cell_type": "code",
   "execution_count": 25,
   "metadata": {},
   "outputs": [
    {
     "name": "stdout",
     "output_type": "stream",
     "text": [
      "HP： 15 / 270\n"
     ]
    }
   ],
   "source": [
    "fussi.showStatus()"
   ]
  }
 ],
 "metadata": {
  "kernelspec": {
   "display_name": "Python 3 (ipykernel)",
   "language": "python",
   "name": "python3"
  },
  "language_info": {
   "codemirror_mode": {
    "name": "ipython",
    "version": 3
   },
   "file_extension": ".py",
   "mimetype": "text/x-python",
   "name": "python",
   "nbconvert_exporter": "python",
   "pygments_lexer": "ipython3",
   "version": "3.10.6"
  },
  "vscode": {
   "interpreter": {
    "hash": "f6c0731c93b086a24b3463fe9860867e5f08fcdadeab7f7fe7825bce932ce888"
   }
  }
 },
 "nbformat": 4,
 "nbformat_minor": 4
}
